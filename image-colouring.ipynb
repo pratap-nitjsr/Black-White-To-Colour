{
 "cells": [
  {
   "cell_type": "code",
   "execution_count": 1,
   "id": "3a86b64c",
   "metadata": {
    "_cell_guid": "b1076dfc-b9ad-4769-8c92-a6c4dae69d19",
    "_uuid": "8f2839f25d086af736a60e9eeb907d3b93b6e0e5",
    "execution": {
     "iopub.execute_input": "2024-01-17T18:54:41.133908Z",
     "iopub.status.busy": "2024-01-17T18:54:41.133580Z",
     "iopub.status.idle": "2024-01-17T18:54:41.199441Z",
     "shell.execute_reply": "2024-01-17T18:54:41.198434Z"
    },
    "papermill": {
     "duration": 0.074373,
     "end_time": "2024-01-17T18:54:41.201791",
     "exception": false,
     "start_time": "2024-01-17T18:54:41.127418",
     "status": "completed"
    },
    "tags": []
   },
   "outputs": [],
   "source": [
    "%reset -f"
   ]
  },
  {
   "cell_type": "code",
   "execution_count": 2,
   "id": "f5f5364b",
   "metadata": {
    "execution": {
     "iopub.execute_input": "2024-01-17T18:54:41.213425Z",
     "iopub.status.busy": "2024-01-17T18:54:41.212767Z",
     "iopub.status.idle": "2024-01-17T18:55:00.265345Z",
     "shell.execute_reply": "2024-01-17T18:55:00.264529Z"
    },
    "papermill": {
     "duration": 19.060696,
     "end_time": "2024-01-17T18:55:00.267796",
     "exception": false,
     "start_time": "2024-01-17T18:54:41.207100",
     "status": "completed"
    },
    "tags": []
   },
   "outputs": [
    {
     "name": "stderr",
     "output_type": "stream",
     "text": [
      "/opt/conda/lib/python3.10/site-packages/scipy/__init__.py:146: UserWarning: A NumPy version >=1.16.5 and <1.23.0 is required for this version of SciPy (detected version 1.24.3\n",
      "  warnings.warn(f\"A NumPy version >={np_minversion} and <{np_maxversion}\"\n"
     ]
    }
   ],
   "source": [
    "import tensorflow as tf\n",
    "import numpy as np\n",
    "from tensorflow import keras\n",
    "import os\n",
    "import cv2"
   ]
  },
  {
   "cell_type": "code",
   "execution_count": 3,
   "id": "ee14e0ed",
   "metadata": {
    "execution": {
     "iopub.execute_input": "2024-01-17T18:55:00.279407Z",
     "iopub.status.busy": "2024-01-17T18:55:00.278851Z",
     "iopub.status.idle": "2024-01-17T18:55:00.283288Z",
     "shell.execute_reply": "2024-01-17T18:55:00.282466Z"
    },
    "papermill": {
     "duration": 0.012495,
     "end_time": "2024-01-17T18:55:00.285188",
     "exception": false,
     "start_time": "2024-01-17T18:55:00.272693",
     "status": "completed"
    },
    "tags": []
   },
   "outputs": [],
   "source": [
    "x_train = []\n",
    "y_train1 = []\n",
    "y_train2 = []\n",
    "path = '/kaggle/input/coco-2017-dataset/coco2017/train2017'"
   ]
  },
  {
   "cell_type": "code",
   "execution_count": 4,
   "id": "98c6b68e",
   "metadata": {
    "execution": {
     "iopub.execute_input": "2024-01-17T18:55:00.295705Z",
     "iopub.status.busy": "2024-01-17T18:55:00.295442Z",
     "iopub.status.idle": "2024-01-17T19:38:32.163697Z",
     "shell.execute_reply": "2024-01-17T19:38:32.162811Z"
    },
    "papermill": {
     "duration": 2611.876388,
     "end_time": "2024-01-17T19:38:32.166349",
     "exception": false,
     "start_time": "2024-01-17T18:55:00.289961",
     "status": "completed"
    },
    "tags": []
   },
   "outputs": [],
   "source": [
    "files = os.listdir(path)\n",
    "i=0\n",
    "for file in files:\n",
    "#     print(i)\n",
    "    img = cv2.imread(os.path.join(path,file),cv2.IMREAD_UNCHANGED)\n",
    "    if (len(img.shape)==3 and img.shape[2]==3):\n",
    "        img = cv2.resize(img, (128,128))\n",
    "#         print(img.shape)\n",
    "        i=i+1\n",
    "        img = cv2.cvtColor(img, cv2.COLOR_BGR2LAB)\n",
    "        x_train.append(img[:,:,0])\n",
    "        y_train1.append(img[:,:,1])\n",
    "        y_train2.append(img[:,:,2])"
   ]
  },
  {
   "cell_type": "code",
   "execution_count": 5,
   "id": "edd97179",
   "metadata": {
    "execution": {
     "iopub.execute_input": "2024-01-17T19:38:32.178439Z",
     "iopub.status.busy": "2024-01-17T19:38:32.178064Z",
     "iopub.status.idle": "2024-01-17T19:38:32.185096Z",
     "shell.execute_reply": "2024-01-17T19:38:32.184173Z"
    },
    "papermill": {
     "duration": 0.015332,
     "end_time": "2024-01-17T19:38:32.187111",
     "exception": false,
     "start_time": "2024-01-17T19:38:32.171779",
     "status": "completed"
    },
    "tags": []
   },
   "outputs": [
    {
     "data": {
      "text/plain": [
       "118060"
      ]
     },
     "execution_count": 5,
     "metadata": {},
     "output_type": "execute_result"
    }
   ],
   "source": [
    "len(x_train)"
   ]
  },
  {
   "cell_type": "code",
   "execution_count": 6,
   "id": "bd3b4fe1",
   "metadata": {
    "execution": {
     "iopub.execute_input": "2024-01-17T19:38:32.198456Z",
     "iopub.status.busy": "2024-01-17T19:38:32.198118Z",
     "iopub.status.idle": "2024-01-17T19:38:41.201421Z",
     "shell.execute_reply": "2024-01-17T19:38:41.200377Z"
    },
    "papermill": {
     "duration": 9.011523,
     "end_time": "2024-01-17T19:38:41.203801",
     "exception": false,
     "start_time": "2024-01-17T19:38:32.192278",
     "status": "completed"
    },
    "tags": []
   },
   "outputs": [],
   "source": [
    "x_train = np.array(x_train)\n",
    "y_train1 = np.array(y_train1)\n",
    "y_train2 = np.array(y_train2)"
   ]
  },
  {
   "cell_type": "code",
   "execution_count": 7,
   "id": "99421a9c",
   "metadata": {
    "execution": {
     "iopub.execute_input": "2024-01-17T19:38:41.215296Z",
     "iopub.status.busy": "2024-01-17T19:38:41.214993Z",
     "iopub.status.idle": "2024-01-17T19:38:41.219842Z",
     "shell.execute_reply": "2024-01-17T19:38:41.219058Z"
    },
    "papermill": {
     "duration": 0.012648,
     "end_time": "2024-01-17T19:38:41.221755",
     "exception": false,
     "start_time": "2024-01-17T19:38:41.209107",
     "status": "completed"
    },
    "tags": []
   },
   "outputs": [
    {
     "name": "stdout",
     "output_type": "stream",
     "text": [
      "(118060, 128, 128)\n",
      "(118060, 128, 128)\n",
      "(118060, 128, 128)\n"
     ]
    }
   ],
   "source": [
    "print (x_train.shape)\n",
    "print(y_train1.shape)\n",
    "print(y_train2.shape)"
   ]
  },
  {
   "cell_type": "code",
   "execution_count": 8,
   "id": "f87b3985",
   "metadata": {
    "execution": {
     "iopub.execute_input": "2024-01-17T19:38:41.232490Z",
     "iopub.status.busy": "2024-01-17T19:38:41.232253Z",
     "iopub.status.idle": "2024-01-17T19:38:41.468845Z",
     "shell.execute_reply": "2024-01-17T19:38:41.468078Z"
    },
    "papermill": {
     "duration": 0.244532,
     "end_time": "2024-01-17T19:38:41.471166",
     "exception": false,
     "start_time": "2024-01-17T19:38:41.226634",
     "status": "completed"
    },
    "tags": []
   },
   "outputs": [],
   "source": [
    "from tensorflow.keras import layers, models\n",
    "\n",
    "def create_model(input_shape=(128, 128, 1)):\n",
    "    model = models.Sequential()\n",
    "\n",
    "    model.add(layers.Conv2D(32, (3, 3), activation='relu', input_shape=input_shape))\n",
    "    model.add(layers.MaxPooling2D((2, 2)))\n",
    "    model.add(layers.Conv2D(64, (3, 3), activation='relu'))\n",
    "    model.add(layers.MaxPooling2D((2, 2)))\n",
    "\n",
    "    model.add(layers.Flatten())\n",
    "\n",
    "    model.add(layers.Dense(128, activation='relu'))\n",
    "    model.add(layers.Dense(128, activation='relu'))\n",
    "\n",
    "    model.add(layers.Dense(128*128*1, activation='linear'))\n",
    "    model.add(layers.Reshape((128, 128, 1)))\n",
    "\n",
    "    return model"
   ]
  },
  {
   "cell_type": "code",
   "execution_count": 9,
   "id": "3c1a0406",
   "metadata": {
    "execution": {
     "iopub.execute_input": "2024-01-17T19:38:41.482378Z",
     "iopub.status.busy": "2024-01-17T19:38:41.482112Z",
     "iopub.status.idle": "2024-01-17T19:38:43.510887Z",
     "shell.execute_reply": "2024-01-17T19:38:43.509897Z"
    },
    "papermill": {
     "duration": 2.042745,
     "end_time": "2024-01-17T19:38:43.518973",
     "exception": false,
     "start_time": "2024-01-17T19:38:41.476228",
     "status": "completed"
    },
    "tags": []
   },
   "outputs": [
    {
     "name": "stdout",
     "output_type": "stream",
     "text": [
      "Model: \"sequential\"\n",
      "_________________________________________________________________\n",
      " Layer (type)                Output Shape              Param #   \n",
      "=================================================================\n",
      " conv2d (Conv2D)             (None, 126, 126, 32)      320       \n",
      "                                                                 \n",
      " max_pooling2d (MaxPooling2  (None, 63, 63, 32)        0         \n",
      " D)                                                              \n",
      "                                                                 \n",
      " conv2d_1 (Conv2D)           (None, 61, 61, 64)        18496     \n",
      "                                                                 \n",
      " max_pooling2d_1 (MaxPoolin  (None, 30, 30, 64)        0         \n",
      " g2D)                                                            \n",
      "                                                                 \n",
      " flatten (Flatten)           (None, 57600)             0         \n",
      "                                                                 \n",
      " dense (Dense)               (None, 128)               7372928   \n",
      "                                                                 \n",
      " dense_1 (Dense)             (None, 128)               16512     \n",
      "                                                                 \n",
      " dense_2 (Dense)             (None, 16384)             2113536   \n",
      "                                                                 \n",
      " reshape (Reshape)           (None, 128, 128, 1)       0         \n",
      "                                                                 \n",
      "=================================================================\n",
      "Total params: 9521792 (36.32 MB)\n",
      "Trainable params: 9521792 (36.32 MB)\n",
      "Non-trainable params: 0 (0.00 Byte)\n",
      "_________________________________________________________________\n",
      "Model: \"sequential_1\"\n",
      "_________________________________________________________________\n",
      " Layer (type)                Output Shape              Param #   \n",
      "=================================================================\n",
      " conv2d_2 (Conv2D)           (None, 126, 126, 32)      320       \n",
      "                                                                 \n",
      " max_pooling2d_2 (MaxPoolin  (None, 63, 63, 32)        0         \n",
      " g2D)                                                            \n",
      "                                                                 \n",
      " conv2d_3 (Conv2D)           (None, 61, 61, 64)        18496     \n",
      "                                                                 \n",
      " max_pooling2d_3 (MaxPoolin  (None, 30, 30, 64)        0         \n",
      " g2D)                                                            \n",
      "                                                                 \n",
      " flatten_1 (Flatten)         (None, 57600)             0         \n",
      "                                                                 \n",
      " dense_3 (Dense)             (None, 128)               7372928   \n",
      "                                                                 \n",
      " dense_4 (Dense)             (None, 128)               16512     \n",
      "                                                                 \n",
      " dense_5 (Dense)             (None, 16384)             2113536   \n",
      "                                                                 \n",
      " reshape_1 (Reshape)         (None, 128, 128, 1)       0         \n",
      "                                                                 \n",
      "=================================================================\n",
      "Total params: 9521792 (36.32 MB)\n",
      "Trainable params: 9521792 (36.32 MB)\n",
      "Non-trainable params: 0 (0.00 Byte)\n",
      "_________________________________________________________________\n",
      "None None\n"
     ]
    }
   ],
   "source": [
    "model_1 = create_model()\n",
    "model_2 = create_model()\n",
    "print(model_1.summary(), model_2.summary())"
   ]
  },
  {
   "cell_type": "code",
   "execution_count": 10,
   "id": "ee83212a",
   "metadata": {
    "execution": {
     "iopub.execute_input": "2024-01-17T19:38:43.542008Z",
     "iopub.status.busy": "2024-01-17T19:38:43.541640Z",
     "iopub.status.idle": "2024-01-17T19:38:43.564660Z",
     "shell.execute_reply": "2024-01-17T19:38:43.563756Z"
    },
    "papermill": {
     "duration": 0.036524,
     "end_time": "2024-01-17T19:38:43.566739",
     "exception": false,
     "start_time": "2024-01-17T19:38:43.530215",
     "status": "completed"
    },
    "tags": []
   },
   "outputs": [],
   "source": [
    "model_1.compile(optimizer='adam',loss=keras.losses.mean_squared_error, metrics=['accuracy'])\n",
    "model_2.compile(optimizer = 'adam',loss = keras.losses.mean_squared_error, metrics=['accuracy'])"
   ]
  },
  {
   "cell_type": "code",
   "execution_count": 11,
   "id": "6b601291",
   "metadata": {
    "execution": {
     "iopub.execute_input": "2024-01-17T19:38:43.587911Z",
     "iopub.status.busy": "2024-01-17T19:38:43.587590Z",
     "iopub.status.idle": "2024-01-17T20:19:44.091259Z",
     "shell.execute_reply": "2024-01-17T20:19:44.090257Z"
    },
    "papermill": {
     "duration": 2460.516805,
     "end_time": "2024-01-17T20:19:44.093577",
     "exception": false,
     "start_time": "2024-01-17T19:38:43.576772",
     "status": "completed"
    },
    "tags": []
   },
   "outputs": [
    {
     "name": "stdout",
     "output_type": "stream",
     "text": [
      "Epoch 1/50\n",
      "3690/3690 [==============================] - 56s 13ms/step - loss: 363.0406 - accuracy: 0.0000e+00\n",
      "Epoch 2/50\n",
      "3690/3690 [==============================] - 49s 13ms/step - loss: 137.0817 - accuracy: 0.0000e+00\n",
      "Epoch 3/50\n",
      "3690/3690 [==============================] - 49s 13ms/step - loss: 132.0113 - accuracy: 0.0000e+00\n",
      "Epoch 4/50\n",
      "3690/3690 [==============================] - 49s 13ms/step - loss: 130.5513 - accuracy: 0.0000e+00\n",
      "Epoch 5/50\n",
      "3690/3690 [==============================] - 49s 13ms/step - loss: 129.0196 - accuracy: 0.0000e+00\n",
      "Epoch 6/50\n",
      "3690/3690 [==============================] - 49s 13ms/step - loss: 127.3977 - accuracy: 0.0000e+00\n",
      "Epoch 7/50\n",
      "3690/3690 [==============================] - 49s 13ms/step - loss: 125.6468 - accuracy: 0.0000e+00\n",
      "Epoch 8/50\n",
      "3690/3690 [==============================] - 49s 13ms/step - loss: 124.3266 - accuracy: 0.0000e+00\n",
      "Epoch 9/50\n",
      "3690/3690 [==============================] - 49s 13ms/step - loss: 122.6629 - accuracy: 0.0000e+00\n",
      "Epoch 10/50\n",
      "3690/3690 [==============================] - 49s 13ms/step - loss: 120.8335 - accuracy: 0.0000e+00\n",
      "Epoch 11/50\n",
      "3690/3690 [==============================] - 49s 13ms/step - loss: 118.2660 - accuracy: 0.0000e+00\n",
      "Epoch 12/50\n",
      "3690/3690 [==============================] - 49s 13ms/step - loss: 116.0423 - accuracy: 0.0000e+00\n",
      "Epoch 13/50\n",
      "3690/3690 [==============================] - 49s 13ms/step - loss: 113.4965 - accuracy: 0.0000e+00\n",
      "Epoch 14/50\n",
      "3690/3690 [==============================] - 49s 13ms/step - loss: 111.2547 - accuracy: 0.0000e+00\n",
      "Epoch 15/50\n",
      "3690/3690 [==============================] - 49s 13ms/step - loss: 108.9897 - accuracy: 0.0000e+00\n",
      "Epoch 16/50\n",
      "3690/3690 [==============================] - 49s 13ms/step - loss: 106.9935 - accuracy: 0.0000e+00\n",
      "Epoch 17/50\n",
      "3690/3690 [==============================] - 49s 13ms/step - loss: 105.2003 - accuracy: 0.0000e+00\n",
      "Epoch 18/50\n",
      "3690/3690 [==============================] - 49s 13ms/step - loss: 103.6702 - accuracy: 0.0000e+00\n",
      "Epoch 19/50\n",
      "3690/3690 [==============================] - 49s 13ms/step - loss: 102.1944 - accuracy: 0.0000e+00\n",
      "Epoch 20/50\n",
      "3690/3690 [==============================] - 49s 13ms/step - loss: 100.8318 - accuracy: 0.0000e+00\n",
      "Epoch 21/50\n",
      "3690/3690 [==============================] - 49s 13ms/step - loss: 99.8152 - accuracy: 0.0000e+00\n",
      "Epoch 22/50\n",
      "3690/3690 [==============================] - 49s 13ms/step - loss: 98.6476 - accuracy: 0.0000e+00\n",
      "Epoch 23/50\n",
      "3690/3690 [==============================] - 49s 13ms/step - loss: 97.9292 - accuracy: 0.0000e+00\n",
      "Epoch 24/50\n",
      "3690/3690 [==============================] - 49s 13ms/step - loss: 97.1512 - accuracy: 0.0000e+00\n",
      "Epoch 25/50\n",
      "3690/3690 [==============================] - 49s 13ms/step - loss: 96.2745 - accuracy: 0.0000e+00\n",
      "Epoch 26/50\n",
      "3690/3690 [==============================] - 49s 13ms/step - loss: 95.3131 - accuracy: 0.0000e+00\n",
      "Epoch 27/50\n",
      "3690/3690 [==============================] - 49s 13ms/step - loss: 94.7400 - accuracy: 0.0000e+00\n",
      "Epoch 28/50\n",
      "3690/3690 [==============================] - 49s 13ms/step - loss: 94.0814 - accuracy: 0.0000e+00\n",
      "Epoch 29/50\n",
      "3690/3690 [==============================] - 49s 13ms/step - loss: 93.3908 - accuracy: 0.0000e+00\n",
      "Epoch 30/50\n",
      "3690/3690 [==============================] - 49s 13ms/step - loss: 92.9985 - accuracy: 0.0000e+00\n",
      "Epoch 31/50\n",
      "3690/3690 [==============================] - 49s 13ms/step - loss: 92.4031 - accuracy: 0.0000e+00\n",
      "Epoch 32/50\n",
      "3690/3690 [==============================] - 49s 13ms/step - loss: 91.9038 - accuracy: 0.0000e+00\n",
      "Epoch 33/50\n",
      "3690/3690 [==============================] - 49s 13ms/step - loss: 91.1885 - accuracy: 0.0000e+00\n",
      "Epoch 34/50\n",
      "3690/3690 [==============================] - 49s 13ms/step - loss: 90.6355 - accuracy: 0.0000e+00\n",
      "Epoch 35/50\n",
      "3690/3690 [==============================] - 49s 13ms/step - loss: 90.3943 - accuracy: 0.0000e+00\n",
      "Epoch 36/50\n",
      "3690/3690 [==============================] - 49s 13ms/step - loss: 90.0684 - accuracy: 0.0000e+00\n",
      "Epoch 37/50\n",
      "3690/3690 [==============================] - 49s 13ms/step - loss: 89.5676 - accuracy: 0.0000e+00\n",
      "Epoch 38/50\n",
      "3690/3690 [==============================] - 49s 13ms/step - loss: 89.2889 - accuracy: 0.0000e+00\n",
      "Epoch 39/50\n",
      "3690/3690 [==============================] - 49s 13ms/step - loss: 88.9226 - accuracy: 0.0000e+00\n",
      "Epoch 40/50\n",
      "3690/3690 [==============================] - 49s 13ms/step - loss: 88.7294 - accuracy: 0.0000e+00\n",
      "Epoch 41/50\n",
      "3690/3690 [==============================] - 49s 13ms/step - loss: 88.4186 - accuracy: 0.0000e+00\n",
      "Epoch 42/50\n",
      "3690/3690 [==============================] - 49s 13ms/step - loss: 88.1545 - accuracy: 0.0000e+00\n",
      "Epoch 43/50\n",
      "3690/3690 [==============================] - 49s 13ms/step - loss: 87.9214 - accuracy: 0.0000e+00\n",
      "Epoch 44/50\n",
      "3690/3690 [==============================] - 49s 13ms/step - loss: 87.7191 - accuracy: 0.0000e+00\n",
      "Epoch 45/50\n",
      "3690/3690 [==============================] - 49s 13ms/step - loss: 87.3435 - accuracy: 0.0000e+00\n",
      "Epoch 46/50\n",
      "3690/3690 [==============================] - 49s 13ms/step - loss: 87.1759 - accuracy: 0.0000e+00\n",
      "Epoch 47/50\n",
      "3690/3690 [==============================] - 49s 13ms/step - loss: 86.9570 - accuracy: 0.0000e+00\n",
      "Epoch 48/50\n",
      "3690/3690 [==============================] - 49s 13ms/step - loss: 86.8090 - accuracy: 0.0000e+00\n",
      "Epoch 49/50\n",
      "3690/3690 [==============================] - 49s 13ms/step - loss: 86.7059 - accuracy: 0.0000e+00\n",
      "Epoch 50/50\n",
      "3690/3690 [==============================] - 49s 13ms/step - loss: 86.5230 - accuracy: 0.0000e+00\n"
     ]
    },
    {
     "data": {
      "text/plain": [
       "<keras.src.callbacks.History at 0x7eae2442a530>"
      ]
     },
     "execution_count": 11,
     "metadata": {},
     "output_type": "execute_result"
    }
   ],
   "source": [
    "model_1.fit(x_train, y_train1, epochs = 50)"
   ]
  },
  {
   "cell_type": "code",
   "execution_count": null,
   "id": "483f25d9",
   "metadata": {
    "papermill": {
     "duration": 3.924606,
     "end_time": "2024-01-17T20:19:51.957091",
     "exception": false,
     "start_time": "2024-01-17T20:19:48.032485",
     "status": "completed"
    },
    "tags": []
   },
   "outputs": [],
   "source": []
  },
  {
   "cell_type": "code",
   "execution_count": 12,
   "id": "f2962c72",
   "metadata": {
    "execution": {
     "iopub.execute_input": "2024-01-17T20:19:59.893036Z",
     "iopub.status.busy": "2024-01-17T20:19:59.892602Z",
     "iopub.status.idle": "2024-01-17T21:41:55.373061Z",
     "shell.execute_reply": "2024-01-17T21:41:55.372100Z"
    },
    "papermill": {
     "duration": 4919.424518,
     "end_time": "2024-01-17T21:41:55.375094",
     "exception": false,
     "start_time": "2024-01-17T20:19:55.950576",
     "status": "completed"
    },
    "tags": []
   },
   "outputs": [
    {
     "name": "stdout",
     "output_type": "stream",
     "text": [
      "Epoch 1/100\n",
      "3690/3690 [==============================] - 51s 13ms/step - loss: 564.2515 - accuracy: 0.0000e+00\n",
      "Epoch 2/100\n",
      "3690/3690 [==============================] - 49s 13ms/step - loss: 300.8835 - accuracy: 0.0000e+00\n",
      "Epoch 3/100\n",
      "3690/3690 [==============================] - 49s 13ms/step - loss: 288.0667 - accuracy: 0.0000e+00\n",
      "Epoch 4/100\n",
      "3690/3690 [==============================] - 50s 13ms/step - loss: 278.2677 - accuracy: 0.0000e+00\n",
      "Epoch 5/100\n",
      "3690/3690 [==============================] - 49s 13ms/step - loss: 268.3244 - accuracy: 0.0000e+00\n",
      "Epoch 6/100\n",
      "3690/3690 [==============================] - 49s 13ms/step - loss: 257.6750 - accuracy: 0.0000e+00\n",
      "Epoch 7/100\n",
      "3690/3690 [==============================] - 49s 13ms/step - loss: 244.5401 - accuracy: 0.0000e+00\n",
      "Epoch 8/100\n",
      "3690/3690 [==============================] - 49s 13ms/step - loss: 231.8160 - accuracy: 0.0000e+00\n",
      "Epoch 9/100\n",
      "3690/3690 [==============================] - 49s 13ms/step - loss: 218.4044 - accuracy: 0.0000e+00\n",
      "Epoch 10/100\n",
      "3690/3690 [==============================] - 49s 13ms/step - loss: 208.2977 - accuracy: 0.0000e+00\n",
      "Epoch 11/100\n",
      "3690/3690 [==============================] - 49s 13ms/step - loss: 199.1515 - accuracy: 0.0000e+00\n",
      "Epoch 12/100\n",
      "3690/3690 [==============================] - 49s 13ms/step - loss: 192.7999 - accuracy: 0.0000e+00\n",
      "Epoch 13/100\n",
      "3690/3690 [==============================] - 49s 13ms/step - loss: 186.5193 - accuracy: 0.0000e+00\n",
      "Epoch 14/100\n",
      "3690/3690 [==============================] - 49s 13ms/step - loss: 182.1056 - accuracy: 0.0000e+00\n",
      "Epoch 15/100\n",
      "3690/3690 [==============================] - 49s 13ms/step - loss: 178.1152 - accuracy: 0.0000e+00\n",
      "Epoch 16/100\n",
      "3690/3690 [==============================] - 49s 13ms/step - loss: 175.0214 - accuracy: 0.0000e+00\n",
      "Epoch 17/100\n",
      "3690/3690 [==============================] - 49s 13ms/step - loss: 172.0439 - accuracy: 0.0000e+00\n",
      "Epoch 18/100\n",
      "3690/3690 [==============================] - 49s 13ms/step - loss: 169.3521 - accuracy: 0.0000e+00\n",
      "Epoch 19/100\n",
      "3690/3690 [==============================] - 49s 13ms/step - loss: 167.3501 - accuracy: 0.0000e+00\n",
      "Epoch 20/100\n",
      "3690/3690 [==============================] - 49s 13ms/step - loss: 165.1457 - accuracy: 0.0000e+00\n",
      "Epoch 21/100\n",
      "3690/3690 [==============================] - 49s 13ms/step - loss: 163.4012 - accuracy: 0.0000e+00\n",
      "Epoch 22/100\n",
      "3690/3690 [==============================] - 49s 13ms/step - loss: 162.0157 - accuracy: 0.0000e+00\n",
      "Epoch 23/100\n",
      "3690/3690 [==============================] - 49s 13ms/step - loss: 160.4782 - accuracy: 0.0000e+00\n",
      "Epoch 24/100\n",
      "3690/3690 [==============================] - 49s 13ms/step - loss: 159.2508 - accuracy: 0.0000e+00\n",
      "Epoch 25/100\n",
      "3690/3690 [==============================] - 49s 13ms/step - loss: 157.9983 - accuracy: 0.0000e+00\n",
      "Epoch 26/100\n",
      "3690/3690 [==============================] - 49s 13ms/step - loss: 156.7558 - accuracy: 0.0000e+00\n",
      "Epoch 27/100\n",
      "3690/3690 [==============================] - 49s 13ms/step - loss: 156.1102 - accuracy: 0.0000e+00\n",
      "Epoch 28/100\n",
      "3690/3690 [==============================] - 49s 13ms/step - loss: 154.9818 - accuracy: 0.0000e+00\n",
      "Epoch 29/100\n",
      "3690/3690 [==============================] - 49s 13ms/step - loss: 153.7549 - accuracy: 0.0000e+00\n",
      "Epoch 30/100\n",
      "3690/3690 [==============================] - 49s 13ms/step - loss: 153.2996 - accuracy: 0.0000e+00\n",
      "Epoch 31/100\n",
      "3690/3690 [==============================] - 49s 13ms/step - loss: 152.5788 - accuracy: 0.0000e+00\n",
      "Epoch 32/100\n",
      "3690/3690 [==============================] - 49s 13ms/step - loss: 151.5031 - accuracy: 0.0000e+00\n",
      "Epoch 33/100\n",
      "3690/3690 [==============================] - 49s 13ms/step - loss: 150.9397 - accuracy: 0.0000e+00\n",
      "Epoch 34/100\n",
      "3690/3690 [==============================] - 49s 13ms/step - loss: 150.0336 - accuracy: 0.0000e+00\n",
      "Epoch 35/100\n",
      "3690/3690 [==============================] - 49s 13ms/step - loss: 149.7109 - accuracy: 0.0000e+00\n",
      "Epoch 36/100\n",
      "3690/3690 [==============================] - 49s 13ms/step - loss: 148.8512 - accuracy: 0.0000e+00\n",
      "Epoch 37/100\n",
      "3690/3690 [==============================] - 49s 13ms/step - loss: 148.4083 - accuracy: 0.0000e+00\n",
      "Epoch 38/100\n",
      "3690/3690 [==============================] - 49s 13ms/step - loss: 147.9949 - accuracy: 0.0000e+00\n",
      "Epoch 39/100\n",
      "3690/3690 [==============================] - 49s 13ms/step - loss: 147.4330 - accuracy: 0.0000e+00\n",
      "Epoch 40/100\n",
      "3690/3690 [==============================] - 49s 13ms/step - loss: 147.0864 - accuracy: 0.0000e+00\n",
      "Epoch 41/100\n",
      "3690/3690 [==============================] - 49s 13ms/step - loss: 146.5240 - accuracy: 0.0000e+00\n",
      "Epoch 42/100\n",
      "3690/3690 [==============================] - 49s 13ms/step - loss: 145.9280 - accuracy: 0.0000e+00\n",
      "Epoch 43/100\n",
      "3690/3690 [==============================] - 49s 13ms/step - loss: 145.5882 - accuracy: 0.0000e+00\n",
      "Epoch 44/100\n",
      "3690/3690 [==============================] - 49s 13ms/step - loss: 145.1986 - accuracy: 0.0000e+00\n",
      "Epoch 45/100\n",
      "3690/3690 [==============================] - 49s 13ms/step - loss: 144.9877 - accuracy: 0.0000e+00\n",
      "Epoch 46/100\n",
      "3690/3690 [==============================] - 49s 13ms/step - loss: 144.4473 - accuracy: 0.0000e+00\n",
      "Epoch 47/100\n",
      "3690/3690 [==============================] - 49s 13ms/step - loss: 143.9722 - accuracy: 0.0000e+00\n",
      "Epoch 48/100\n",
      "3690/3690 [==============================] - 49s 13ms/step - loss: 143.6515 - accuracy: 0.0000e+00\n",
      "Epoch 49/100\n",
      "3690/3690 [==============================] - 49s 13ms/step - loss: 143.5406 - accuracy: 0.0000e+00\n",
      "Epoch 50/100\n",
      "3690/3690 [==============================] - 49s 13ms/step - loss: 143.1396 - accuracy: 0.0000e+00\n",
      "Epoch 51/100\n",
      "3690/3690 [==============================] - 49s 13ms/step - loss: 142.7816 - accuracy: 0.0000e+00\n",
      "Epoch 52/100\n",
      "3690/3690 [==============================] - 49s 13ms/step - loss: 142.4275 - accuracy: 0.0000e+00\n",
      "Epoch 53/100\n",
      "3690/3690 [==============================] - 49s 13ms/step - loss: 142.4236 - accuracy: 0.0000e+00\n",
      "Epoch 54/100\n",
      "3690/3690 [==============================] - 49s 13ms/step - loss: 141.9888 - accuracy: 0.0000e+00\n",
      "Epoch 55/100\n",
      "3690/3690 [==============================] - 49s 13ms/step - loss: 141.6518 - accuracy: 0.0000e+00\n",
      "Epoch 56/100\n",
      "3690/3690 [==============================] - 49s 13ms/step - loss: 141.6049 - accuracy: 0.0000e+00\n",
      "Epoch 57/100\n",
      "3690/3690 [==============================] - 49s 13ms/step - loss: 141.1210 - accuracy: 0.0000e+00\n",
      "Epoch 58/100\n",
      "3690/3690 [==============================] - 49s 13ms/step - loss: 141.1005 - accuracy: 0.0000e+00\n",
      "Epoch 59/100\n",
      "3690/3690 [==============================] - 49s 13ms/step - loss: 140.7856 - accuracy: 0.0000e+00\n",
      "Epoch 60/100\n",
      "3690/3690 [==============================] - 49s 13ms/step - loss: 140.2671 - accuracy: 0.0000e+00\n",
      "Epoch 61/100\n",
      "3690/3690 [==============================] - 49s 13ms/step - loss: 140.1553 - accuracy: 0.0000e+00\n",
      "Epoch 62/100\n",
      "3690/3690 [==============================] - 49s 13ms/step - loss: 140.1845 - accuracy: 0.0000e+00\n",
      "Epoch 63/100\n",
      "3690/3690 [==============================] - 49s 13ms/step - loss: 139.7983 - accuracy: 0.0000e+00\n",
      "Epoch 64/100\n",
      "3690/3690 [==============================] - 49s 13ms/step - loss: 139.6124 - accuracy: 0.0000e+00\n",
      "Epoch 65/100\n",
      "3690/3690 [==============================] - 49s 13ms/step - loss: 139.4477 - accuracy: 0.0000e+00\n",
      "Epoch 66/100\n",
      "3690/3690 [==============================] - 49s 13ms/step - loss: 139.5441 - accuracy: 0.0000e+00\n",
      "Epoch 67/100\n",
      "3690/3690 [==============================] - 49s 13ms/step - loss: 139.1621 - accuracy: 0.0000e+00\n",
      "Epoch 68/100\n",
      "3690/3690 [==============================] - 49s 13ms/step - loss: 139.1402 - accuracy: 0.0000e+00\n",
      "Epoch 69/100\n",
      "3690/3690 [==============================] - 49s 13ms/step - loss: 138.7738 - accuracy: 0.0000e+00\n",
      "Epoch 70/100\n",
      "3690/3690 [==============================] - 49s 13ms/step - loss: 138.7303 - accuracy: 0.0000e+00\n",
      "Epoch 71/100\n",
      "3690/3690 [==============================] - 49s 13ms/step - loss: 138.5116 - accuracy: 0.0000e+00\n",
      "Epoch 72/100\n",
      "3690/3690 [==============================] - 49s 13ms/step - loss: 138.5528 - accuracy: 0.0000e+00\n",
      "Epoch 73/100\n",
      "3690/3690 [==============================] - 49s 13ms/step - loss: 138.2478 - accuracy: 0.0000e+00\n",
      "Epoch 74/100\n",
      "3690/3690 [==============================] - 49s 13ms/step - loss: 138.0086 - accuracy: 0.0000e+00\n",
      "Epoch 75/100\n",
      "3690/3690 [==============================] - 49s 13ms/step - loss: 137.7966 - accuracy: 0.0000e+00\n",
      "Epoch 76/100\n",
      "3690/3690 [==============================] - 49s 13ms/step - loss: 137.7542 - accuracy: 0.0000e+00\n",
      "Epoch 77/100\n",
      "3690/3690 [==============================] - 49s 13ms/step - loss: 137.6762 - accuracy: 0.0000e+00\n",
      "Epoch 78/100\n",
      "3690/3690 [==============================] - 49s 13ms/step - loss: 137.3961 - accuracy: 0.0000e+00\n",
      "Epoch 79/100\n",
      "3690/3690 [==============================] - 49s 13ms/step - loss: 137.3892 - accuracy: 0.0000e+00\n",
      "Epoch 80/100\n",
      "3690/3690 [==============================] - 49s 13ms/step - loss: 137.2026 - accuracy: 0.0000e+00\n",
      "Epoch 81/100\n",
      "3690/3690 [==============================] - 49s 13ms/step - loss: 136.9299 - accuracy: 0.0000e+00\n",
      "Epoch 82/100\n",
      "3690/3690 [==============================] - 49s 13ms/step - loss: 136.8191 - accuracy: 0.0000e+00\n",
      "Epoch 83/100\n",
      "3690/3690 [==============================] - 49s 13ms/step - loss: 136.8122 - accuracy: 0.0000e+00\n",
      "Epoch 84/100\n",
      "3690/3690 [==============================] - 49s 13ms/step - loss: 136.6750 - accuracy: 0.0000e+00\n",
      "Epoch 85/100\n",
      "3690/3690 [==============================] - 49s 13ms/step - loss: 136.2949 - accuracy: 0.0000e+00\n",
      "Epoch 86/100\n",
      "3690/3690 [==============================] - 49s 13ms/step - loss: 136.5034 - accuracy: 0.0000e+00\n",
      "Epoch 87/100\n",
      "3690/3690 [==============================] - 49s 13ms/step - loss: 136.2055 - accuracy: 0.0000e+00\n",
      "Epoch 88/100\n",
      "3690/3690 [==============================] - 49s 13ms/step - loss: 136.1444 - accuracy: 0.0000e+00\n",
      "Epoch 89/100\n",
      "3690/3690 [==============================] - 49s 13ms/step - loss: 135.9830 - accuracy: 0.0000e+00\n",
      "Epoch 90/100\n",
      "3690/3690 [==============================] - 49s 13ms/step - loss: 136.0222 - accuracy: 0.0000e+00\n",
      "Epoch 91/100\n",
      "3690/3690 [==============================] - 49s 13ms/step - loss: 135.9702 - accuracy: 0.0000e+00\n",
      "Epoch 92/100\n",
      "3690/3690 [==============================] - 49s 13ms/step - loss: 135.9075 - accuracy: 0.0000e+00\n",
      "Epoch 93/100\n",
      "3690/3690 [==============================] - 49s 13ms/step - loss: 135.5336 - accuracy: 0.0000e+00\n",
      "Epoch 94/100\n",
      "3690/3690 [==============================] - 49s 13ms/step - loss: 135.6000 - accuracy: 0.0000e+00\n",
      "Epoch 95/100\n",
      "3690/3690 [==============================] - 49s 13ms/step - loss: 135.5419 - accuracy: 0.0000e+00\n",
      "Epoch 96/100\n",
      "3690/3690 [==============================] - 49s 13ms/step - loss: 135.4491 - accuracy: 0.0000e+00\n",
      "Epoch 97/100\n",
      "3690/3690 [==============================] - 49s 13ms/step - loss: 135.2604 - accuracy: 0.0000e+00\n",
      "Epoch 98/100\n",
      "3690/3690 [==============================] - 49s 13ms/step - loss: 135.1709 - accuracy: 0.0000e+00\n",
      "Epoch 99/100\n",
      "3690/3690 [==============================] - 49s 13ms/step - loss: 135.2092 - accuracy: 0.0000e+00\n",
      "Epoch 100/100\n",
      "3690/3690 [==============================] - 49s 13ms/step - loss: 134.9588 - accuracy: 0.0000e+00\n"
     ]
    },
    {
     "data": {
      "text/plain": [
       "<keras.src.callbacks.History at 0x7eac0c52c190>"
      ]
     },
     "execution_count": 12,
     "metadata": {},
     "output_type": "execute_result"
    }
   ],
   "source": [
    "model_2.fit(x_train, y_train2, epochs = 100)"
   ]
  },
  {
   "cell_type": "code",
   "execution_count": 13,
   "id": "f722015e",
   "metadata": {
    "execution": {
     "iopub.execute_input": "2024-01-17T21:42:18.844187Z",
     "iopub.status.busy": "2024-01-17T21:42:18.843133Z",
     "iopub.status.idle": "2024-01-17T21:42:19.075286Z",
     "shell.execute_reply": "2024-01-17T21:42:19.074347Z"
    },
    "papermill": {
     "duration": 11.696126,
     "end_time": "2024-01-17T21:42:19.077200",
     "exception": false,
     "start_time": "2024-01-17T21:42:07.381074",
     "status": "completed"
    },
    "tags": []
   },
   "outputs": [
    {
     "name": "stderr",
     "output_type": "stream",
     "text": [
      "/opt/conda/lib/python3.10/site-packages/keras/src/engine/training.py:3000: UserWarning: You are saving your model as an HDF5 file via `model.save()`. This file format is considered legacy. We recommend using instead the native Keras format, e.g. `model.save('my_model.keras')`.\n",
      "  saving_api.save_model(\n"
     ]
    }
   ],
   "source": [
    "model_1.save('A_model_7.h5')"
   ]
  },
  {
   "cell_type": "code",
   "execution_count": 14,
   "id": "e3558f2f",
   "metadata": {
    "execution": {
     "iopub.execute_input": "2024-01-17T21:42:42.528042Z",
     "iopub.status.busy": "2024-01-17T21:42:42.527638Z",
     "iopub.status.idle": "2024-01-17T21:42:42.688650Z",
     "shell.execute_reply": "2024-01-17T21:42:42.687847Z"
    },
    "papermill": {
     "duration": 11.796261,
     "end_time": "2024-01-17T21:42:42.690826",
     "exception": false,
     "start_time": "2024-01-17T21:42:30.894565",
     "status": "completed"
    },
    "tags": []
   },
   "outputs": [],
   "source": [
    "model_2.save('B_model_7.h5')"
   ]
  },
  {
   "cell_type": "code",
   "execution_count": null,
   "id": "0baabdc7",
   "metadata": {
    "papermill": {
     "duration": 11.814427,
     "end_time": "2024-01-17T21:43:06.205411",
     "exception": false,
     "start_time": "2024-01-17T21:42:54.390984",
     "status": "completed"
    },
    "tags": []
   },
   "outputs": [],
   "source": []
  }
 ],
 "metadata": {
  "kaggle": {
   "accelerator": "nvidiaTeslaT4",
   "dataSources": [
    {
     "datasetId": 857191,
     "sourceId": 1462296,
     "sourceType": "datasetVersion"
    }
   ],
   "dockerImageVersionId": 30636,
   "isGpuEnabled": true,
   "isInternetEnabled": true,
   "language": "python",
   "sourceType": "notebook"
  },
  "kernelspec": {
   "display_name": "Python 3",
   "language": "python",
   "name": "python3"
  },
  "language_info": {
   "codemirror_mode": {
    "name": "ipython",
    "version": 3
   },
   "file_extension": ".py",
   "mimetype": "text/x-python",
   "name": "python",
   "nbconvert_exporter": "python",
   "pygments_lexer": "ipython3",
   "version": "3.10.12"
  },
  "papermill": {
   "default_parameters": {},
   "duration": 10124.871751,
   "end_time": "2024-01-17T21:43:21.256535",
   "environment_variables": {},
   "exception": null,
   "input_path": "__notebook__.ipynb",
   "output_path": "__notebook__.ipynb",
   "parameters": {},
   "start_time": "2024-01-17T18:54:36.384784",
   "version": "2.4.0"
  }
 },
 "nbformat": 4,
 "nbformat_minor": 5
}
